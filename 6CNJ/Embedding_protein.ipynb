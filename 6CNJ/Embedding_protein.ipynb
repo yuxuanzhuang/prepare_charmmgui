{
 "cells": [
  {
   "cell_type": "markdown",
   "id": "93b6f753-4b11-47f1-b8a6-1570364652c9",
   "metadata": {},
   "source": [
    "## Visulaization"
   ]
  },
  {
   "cell_type": "code",
   "execution_count": 15,
   "id": "2e1f89c9-a4e5-40c4-83c2-96d964cb39b8",
   "metadata": {},
   "outputs": [
    {
     "name": "stderr",
     "output_type": "stream",
     "text": [
      "/nethome/yzhuang/mdanalysis/package/MDAnalysis/coordinates/PDB.py:429: UserWarning: 1 A^3 CRYST1 record, this is usually a placeholder. Unit cell dimensions will be set to None.\n",
      "  warnings.warn(\"1 A^3 CRYST1 record,\"\n"
     ]
    }
   ],
   "source": [
    "u = mda.Universe('./protein_princ.pdb')"
   ]
  },
  {
   "cell_type": "code",
   "execution_count": 16,
   "id": "fbdc5683-a9e4-4a30-b996-e20cc0fc2ee6",
   "metadata": {},
   "outputs": [],
   "source": [
    "view = nv.show_mdanalysis(u)"
   ]
  },
  {
   "cell_type": "code",
   "execution_count": 17,
   "id": "fb6951cd-c15a-45df-9130-d946539be38d",
   "metadata": {},
   "outputs": [
    {
     "data": {
      "application/vnd.jupyter.widget-view+json": {
       "model_id": "194afb062c6948cc8bd7185b4f26eba7",
       "version_major": 2,
       "version_minor": 0
      },
      "text/plain": [
       "NGLWidget()"
      ]
     },
     "metadata": {},
     "output_type": "display_data"
    }
   ],
   "source": [
    "view"
   ]
  },
  {
   "cell_type": "markdown",
   "id": "fffa75c4",
   "metadata": {
    "tags": []
   },
   "source": [
    "# Aligning Protein to template"
   ]
  },
  {
   "cell_type": "code",
   "execution_count": 3,
   "id": "97039a5a",
   "metadata": {},
   "outputs": [
    {
     "data": {
      "application/vnd.jupyter.widget-view+json": {
       "model_id": "091515cc36714438bfe48dea2c3c64dd",
       "version_major": 2,
       "version_minor": 0
      },
      "text/plain": []
     },
     "metadata": {},
     "output_type": "display_data"
    }
   ],
   "source": [
    "import MDAnalysis as mda\n",
    "import nglview as nv\n",
    "import MDAnalysis.transformations\n",
    "import numpy as np\n",
    "import collections"
   ]
  },
  {
   "cell_type": "code",
   "execution_count": 20,
   "id": "55f71ba5",
   "metadata": {},
   "outputs": [
    {
     "name": "stderr",
     "output_type": "stream",
     "text": [
      "/nethome/yzhuang/mdanalysis/package/MDAnalysis/coordinates/PDB.py:429: UserWarning: 1 A^3 CRYST1 record, this is usually a placeholder. Unit cell dimensions will be set to None.\n",
      "  warnings.warn(\"1 A^3 CRYST1 record,\"\n",
      "/nethome/yzhuang/mdanalysis/package/MDAnalysis/coordinates/base.py:892: UserWarning: Reader has no dt information, set to 1.0 ps\n",
      "  warnings.warn(\"Reader has no dt information, set to 1.0 ps\")\n"
     ]
    }
   ],
   "source": [
    "prot_syst = mda.Universe('protein_princ.pdb', in_memory=True)"
   ]
  },
  {
   "cell_type": "code",
   "execution_count": 21,
   "id": "2202248b",
   "metadata": {},
   "outputs": [],
   "source": [
    "prot_temp = mda.Universe('../../common_files/protein_temp.pdb')"
   ]
  },
  {
   "cell_type": "code",
   "execution_count": 22,
   "id": "9a1fdd1b-f6b1-473c-8f90-822f33b94a62",
   "metadata": {},
   "outputs": [],
   "source": [
    "# select 9' C-alphas\n",
    "prot_middle = np.mean(prot_syst.select_atoms('name CA and ((segid A D and resid 257) or (segid B C E and resid 249))').positions.T, axis=1)"
   ]
  },
  {
   "cell_type": "code",
   "execution_count": 23,
   "id": "7e03838a-1216-41bc-8a20-075537474e4f",
   "metadata": {},
   "outputs": [],
   "source": [
    "#  9' of the template protein (a7 nAChRs)\n",
    "temp_middle = np.mean(prot_temp.select_atoms('name CA and resid 247').positions.T, axis=1)"
   ]
  },
  {
   "cell_type": "code",
   "execution_count": 24,
   "id": "890e4399-6964-4fb8-9275-ec94d6d57fb8",
   "metadata": {},
   "outputs": [],
   "source": [
    "#  Translate to make 9' to overlap\n",
    "\n",
    "translateprot = MDAnalysis.transformations.translate(temp_middle-prot_middle)\n",
    "prot_syst.trajectory.add_transformations(translateprot)"
   ]
  },
  {
   "cell_type": "code",
   "execution_count": 25,
   "id": "d3819c0b-9752-4d12-ba37-2e13c17a4830",
   "metadata": {},
   "outputs": [
    {
     "data": {
      "text/plain": [
       "<nglview.component.ComponentViewer at 0x7fd73142cb50>"
      ]
     },
     "execution_count": 25,
     "metadata": {},
     "output_type": "execute_result"
    }
   ],
   "source": [
    "#  Validate the transformation\n",
    "view = nv.show_mdanalysis(prot_syst.atoms)\n",
    "view.add_representation('cartoon', selection='protein', color='black')\n",
    "view.add_trajectory(prot_temp)"
   ]
  },
  {
   "cell_type": "code",
   "execution_count": 26,
   "id": "0e458b1c-3983-41ab-97b5-496c2b7ccb82",
   "metadata": {},
   "outputs": [
    {
     "data": {
      "text/plain": [
       "<nglview.component.ComponentViewer at 0x7fd73142c400>"
      ]
     },
     "execution_count": 26,
     "metadata": {},
     "output_type": "execute_result"
    }
   ],
   "source": [
    "view = nv.show_mdanalysis(prot_temp.atoms)\n",
    "view.add_representation('cartoon', selection='protein', color='black')\n",
    "view.add_trajectory(prot_syst)"
   ]
  },
  {
   "cell_type": "code",
   "execution_count": 27,
   "id": "fc21137a-6138-4ed7-aab0-e0bf6dad44d9",
   "metadata": {},
   "outputs": [
    {
     "data": {
      "application/vnd.jupyter.widget-view+json": {
       "model_id": "831d0d9b7b8a480ea044ffd348024ad8",
       "version_major": 2,
       "version_minor": 0
      },
      "text/plain": [
       "NGLWidget()"
      ]
     },
     "metadata": {},
     "output_type": "display_data"
    }
   ],
   "source": [
    "view"
   ]
  },
  {
   "cell_type": "code",
   "execution_count": 28,
   "id": "02e60116-288e-485c-81b1-bb9ab4def70d",
   "metadata": {},
   "outputs": [
    {
     "name": "stderr",
     "output_type": "stream",
     "text": [
      "/nethome/yzhuang/mdanalysis/package/MDAnalysis/coordinates/PDB.py:747: UserWarning: Unit cell dimensions not found. CRYST1 record set to unitary values.\n",
      "  warnings.warn(\"Unit cell dimensions not found. \"\n"
     ]
    }
   ],
   "source": [
    "prot_syst.atoms.write('./protein_princ_translate.pdb')"
   ]
  }
 ],
 "metadata": {
  "kernelspec": {
   "display_name": "deeplearning",
   "language": "python",
   "name": "deeplearning"
  },
  "language_info": {
   "codemirror_mode": {
    "name": "ipython",
    "version": 3
   },
   "file_extension": ".py",
   "mimetype": "text/x-python",
   "name": "python",
   "nbconvert_exporter": "python",
   "pygments_lexer": "ipython3",
   "version": "3.9.0"
  }
 },
 "nbformat": 4,
 "nbformat_minor": 5
}
