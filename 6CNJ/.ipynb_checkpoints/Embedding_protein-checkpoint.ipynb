{
 "cells": [
  {
   "cell_type": "markdown",
   "id": "c275e605-3407-4a18-ae93-5e71d10d9ae6",
   "metadata": {
    "tags": []
   },
   "source": [
    "# Aligning to new template"
   ]
  },
  {
   "cell_type": "code",
   "execution_count": 1,
   "id": "02e0a6a0-6692-4983-b328-06a3be3567bc",
   "metadata": {},
   "outputs": [],
   "source": [
    "import MDAnalysis as mda\n",
    "from MDAnalysis.analysis import align"
   ]
  },
  {
   "cell_type": "code",
   "execution_count": 2,
   "id": "610ff85a-d5f0-4569-9524-342e9216edb9",
   "metadata": {},
   "outputs": [],
   "source": [
    "#ref = mda.Universe('data/protein_temp_new.pdb')\n",
    "ref = mda.Universe('data/protein_temp.pdb')"
   ]
  },
  {
   "cell_type": "code",
   "execution_count": 12,
   "id": "f0276e80-4853-4af1-84d3-16855c94d62e",
   "metadata": {},
   "outputs": [],
   "source": [
    "mobile2 = mda.Universe('../Structures/PS/PS_orient4_addH.pdb')\n",
    "align.alignto(mobile2,ref,select=\"protein and name CA and resid 20:330\")\n",
    "mobile2.atoms.write('../Structures/PS/PS_orient4_addH_new.pdb')"
   ]
  },
  {
   "cell_type": "code",
   "execution_count": 13,
   "id": "371eef6d-504a-4df1-a0ad-13e5bcf8efef",
   "metadata": {},
   "outputs": [],
   "source": [
    "mobile1 = mda.Universe('../Structures/PS/PS_orientation1_princ_translate_addH.pdb')\n",
    "align.alignto(mobile1,ref,select=\"protein and name CA and resid 20:330\")\n",
    "mobile1.atoms.write('../Structures/PS/PS_orient1_addH_new.pdb')"
   ]
  },
  {
   "cell_type": "code",
   "execution_count": 16,
   "id": "5b7bd013-8a01-4ba8-8e66-cb43235b1cfa",
   "metadata": {},
   "outputs": [],
   "source": [
    "mobile = mda.Universe('../Structures/DHEAS/DHS_orientation1_princ_translate_addH_2.pdb')\n",
    "align.alignto(mobile,ref,select=\"protein and name CA and resid 20:330\")\n",
    "mobile.atoms.write('../Structures/DHEAS/DHS_orient1_addH_new.pdb')"
   ]
  },
  {
   "cell_type": "code",
   "execution_count": 17,
   "id": "ca7ede45-57b2-4990-87b3-426184520d49",
   "metadata": {},
   "outputs": [],
   "source": [
    "mobile = mda.Universe('../Structures/DHEAS/DHS_orientation4_addH.pdb')\n",
    "align.alignto(mobile,ref,select=\"protein and name CA and resid 20:330\")\n",
    "mobile.atoms.write('../Structures/DHEAS/DHS_orient4_addH_new.pdb')"
   ]
  },
  {
   "cell_type": "markdown",
   "id": "fffa75c4",
   "metadata": {},
   "source": [
    "# Aligning Protein to template"
   ]
  },
  {
   "cell_type": "code",
   "execution_count": 3,
   "id": "97039a5a",
   "metadata": {},
   "outputs": [
    {
     "data": {
      "application/vnd.jupyter.widget-view+json": {
       "model_id": "103e2ddac0074e2db76ddc5a03eb3959",
       "version_major": 2,
       "version_minor": 0
      },
      "text/plain": []
     },
     "metadata": {},
     "output_type": "display_data"
    }
   ],
   "source": [
    "import MDAnalysis as mda\n",
    "import nglview as nv\n",
    "import MDAnalysis.transformations\n",
    "import numpy as np\n",
    "import collections"
   ]
  },
  {
   "cell_type": "code",
   "execution_count": 2,
   "id": "c9fb8545",
   "metadata": {},
   "outputs": [],
   "source": [
    "from GABA_annotation import *"
   ]
  },
  {
   "cell_type": "code",
   "execution_count": 3,
   "id": "c4e36fd3",
   "metadata": {},
   "outputs": [],
   "source": [
    "prot_location = '../Structures/DHEAS/'"
   ]
  },
  {
   "cell_type": "code",
   "execution_count": 4,
   "id": "55f71ba5",
   "metadata": {},
   "outputs": [
    {
     "name": "stderr",
     "output_type": "stream",
     "text": [
      "/nethome/chenfan/.local/lib/python3.8/site-packages/MDAnalysis/coordinates/PDB.py:429: UserWarning: 1 A^3 CRYST1 record, this is usually a placeholder. Unit cell dimensions will be set to None.\n",
      "  warnings.warn(\"1 A^3 CRYST1 record,\"\n",
      "/nethome/chenfan/.local/lib/python3.8/site-packages/MDAnalysis/coordinates/base.py:892: UserWarning: Reader has no dt information, set to 1.0 ps\n",
      "  warnings.warn(\"Reader has no dt information, set to 1.0 ps\")\n"
     ]
    }
   ],
   "source": [
    "prot_syst = mda.Universe('/nethome/chenfan/AchR_epibatidine/Structure/6cnj_princ.pdb', in_memory=True)"
   ]
  },
  {
   "cell_type": "code",
   "execution_count": 5,
   "id": "2202248b",
   "metadata": {},
   "outputs": [],
   "source": [
    "prot_temp = mda.Universe('./data/protein_temp.pdb')"
   ]
  },
  {
   "cell_type": "code",
   "execution_count": 8,
   "id": "9a1fdd1b-f6b1-473c-8f90-822f33b94a62",
   "metadata": {},
   "outputs": [],
   "source": [
    "#prot_middle = np.mean(prot_syst.select_atoms('name CA and ' + pore_annotation['9']).positions.T, axis=1)\n",
    "prot_middle = np.mean(prot_syst.select_atoms('name CA and ((segid A D and resid 257) or (segid B C E and resid 249))').positions.T, axis=1)"
   ]
  },
  {
   "cell_type": "code",
   "execution_count": 9,
   "id": "7e03838a-1216-41bc-8a20-075537474e4f",
   "metadata": {},
   "outputs": [],
   "source": [
    "#  9' of the template protein (a7 nAChRs)\n",
    "temp_middle = np.mean(prot_temp.select_atoms('name CA and resid 247').positions.T, axis=1)"
   ]
  },
  {
   "cell_type": "code",
   "execution_count": 10,
   "id": "890e4399-6964-4fb8-9275-ec94d6d57fb8",
   "metadata": {},
   "outputs": [],
   "source": [
    "#  Translate to make 9' to overlap\n",
    "\n",
    "translateprot = MDAnalysis.transformations.translate(temp_middle-prot_middle)\n",
    "prot_syst.trajectory.add_transformations(translateprot)"
   ]
  },
  {
   "cell_type": "code",
   "execution_count": 20,
   "id": "d3819c0b-9752-4d12-ba37-2e13c17a4830",
   "metadata": {},
   "outputs": [
    {
     "data": {
      "text/plain": [
       "<nglview.component.ComponentViewer at 0x7f5afc1eb820>"
      ]
     },
     "execution_count": 20,
     "metadata": {},
     "output_type": "execute_result"
    }
   ],
   "source": [
    "#  Validate the transformation\n",
    "view = nv.show_mdanalysis(prot_syst.atoms)\n",
    "view.add_representation('cartoon', selection='protein', color='black')\n",
    "view.add_trajectory(prot_temp)"
   ]
  },
  {
   "cell_type": "code",
   "execution_count": 22,
   "id": "0e458b1c-3983-41ab-97b5-496c2b7ccb82",
   "metadata": {},
   "outputs": [
    {
     "data": {
      "text/plain": [
       "<nglview.component.ComponentViewer at 0x7f5afca892b0>"
      ]
     },
     "execution_count": 22,
     "metadata": {},
     "output_type": "execute_result"
    }
   ],
   "source": [
    "view = nv.show_mdanalysis(prot_temp.atoms)\n",
    "view.add_representation('cartoon', selection='protein', color='black')\n",
    "view.add_trajectory(prot_syst)"
   ]
  },
  {
   "cell_type": "code",
   "execution_count": 23,
   "id": "fc21137a-6138-4ed7-aab0-e0bf6dad44d9",
   "metadata": {},
   "outputs": [
    {
     "data": {
      "application/vnd.jupyter.widget-view+json": {
       "model_id": "63c0c90ed36a4d288961e157059a0697",
       "version_major": 2,
       "version_minor": 0
      },
      "text/plain": [
       "NGLWidget()"
      ]
     },
     "metadata": {},
     "output_type": "display_data"
    }
   ],
   "source": [
    "view"
   ]
  },
  {
   "cell_type": "code",
   "execution_count": 16,
   "id": "02e60116-288e-485c-81b1-bb9ab4def70d",
   "metadata": {},
   "outputs": [],
   "source": [
    "prot_syst.atoms.write(prot_location + 'DHS_orientation4_princ_translate_addH.pdb')"
   ]
  },
  {
   "cell_type": "code",
   "execution_count": null,
   "id": "0886e569-cb52-49e4-8139-a441e0f01391",
   "metadata": {},
   "outputs": [],
   "source": []
  }
 ],
 "metadata": {
  "kernelspec": {
   "display_name": "gaba",
   "language": "python",
   "name": "gaba"
  },
  "language_info": {
   "codemirror_mode": {
    "name": "ipython",
    "version": 3
   },
   "file_extension": ".py",
   "mimetype": "text/x-python",
   "name": "python",
   "nbconvert_exporter": "python",
   "pygments_lexer": "ipython3",
   "version": "3.8.0"
  }
 },
 "nbformat": 4,
 "nbformat_minor": 5
}
